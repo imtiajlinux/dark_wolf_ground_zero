{
  "nbformat": 4,
  "nbformat_minor": 0,
  "metadata": {
    "colab": {
      "provenance": [],
      "toc_visible": true,
      "authorship_tag": "ABX9TyMJIwAO4+oZ2fj1UcFF1YX8",
      "include_colab_link": true
    },
    "kernelspec": {
      "name": "python3",
      "display_name": "Python 3"
    },
    "language_info": {
      "name": "python"
    }
  },
  "cells": [
    {
      "cell_type": "markdown",
      "metadata": {
        "id": "view-in-github",
        "colab_type": "text"
      },
      "source": [
        "<a href=\"https://colab.research.google.com/github/imtiajlinux/dark_wolf_ground_zero/blob/main/Untitled0.ipynb\" target=\"_parent\"><img src=\"https://colab.research.google.com/assets/colab-badge.svg\" alt=\"Open In Colab\"/></a>"
      ]
    },
    {
      "cell_type": "code",
      "execution_count": 1,
      "metadata": {
        "colab": {
          "base_uri": "https://localhost:8080/"
        },
        "id": "e39b3mT36-VQ",
        "outputId": "8854ceca-fb58-440d-b8f8-a9088e5d4139"
      },
      "outputs": [
        {
          "output_type": "stream",
          "name": "stdout",
          "text": [
            "hello world\n"
          ]
        }
      ],
      "source": []
    },
    {
      "cell_type": "code",
      "source": [
        "hello = input(\"Entery your name :\")\n",
        "age= input(\"  Entry Your age : \")\n",
        "hobbys = input(\"Entery your hobbys : \")\n",
        "\n",
        "feedback = print(\"hello \"+hello+ \" i think your age is \" +age+ \"and your hobbis is \" +hobbys+ \"right mister \"+ hello)\n",
        "\n",
        "\n",
        "script = [hello , age , hobbys , feedback]\n",
        "print(script)\n",
        "\n",
        "\n",
        "\n"
      ],
      "metadata": {
        "colab": {
          "base_uri": "https://localhost:8080/"
        },
        "id": "CWv8bxrG7A75",
        "outputId": "f49aafc2-d263-4395-92bc-4829e0e36484"
      },
      "execution_count": 3,
      "outputs": [
        {
          "output_type": "stream",
          "name": "stdout",
          "text": [
            "Entery your name :foysal imtiaj\n",
            "  Entry Your age : 25\n",
            "Entery your hobbys : codding\n",
            "hello foysal imtiaj i think your age is 25and your hobbis is coddingright mister foysal imtiaj\n",
            "['foysal imtiaj', '25', 'codding', None]\n"
          ]
        }
      ]
    },
    {
      "cell_type": "code",
      "source": [],
      "metadata": {
        "id": "RwyA7tHN9OQ6"
      },
      "execution_count": null,
      "outputs": []
    }
  ]
}